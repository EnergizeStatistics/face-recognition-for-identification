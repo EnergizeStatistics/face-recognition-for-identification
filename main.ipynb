{
 "cells": [
  {
   "cell_type": "markdown",
   "metadata": {},
   "source": [
    "# Face Recognition for Identity #"
   ]
  },
  {
   "cell_type": "markdown",
   "metadata": {},
   "source": [
    "## Load Packages ##"
   ]
  },
  {
   "cell_type": "code",
   "execution_count": 1,
   "metadata": {},
   "outputs": [],
   "source": [
    "import os\n",
    "import pickle\n",
    "\n",
    "import face_recognition\n",
    "\n",
    "import numpy as np\n",
    "np.random.seed(0)"
   ]
  },
  {
   "cell_type": "markdown",
   "metadata": {},
   "source": [
    "## Load Training Data ##"
   ]
  },
  {
   "cell_type": "code",
   "execution_count": 2,
   "metadata": {},
   "outputs": [],
   "source": [
    "data_dir = \"/home/lee/Documents/DatasetsForGitHub/face_recognition_for_identity/\""
   ]
  },
  {
   "cell_type": "markdown",
   "metadata": {},
   "source": [
    "Our training dataset has high-resolution face images of 10 subjects, taken in a well-lit environment. "
   ]
  },
  {
   "cell_type": "code",
   "execution_count": 3,
   "metadata": {},
   "outputs": [],
   "source": [
    "# grab the paths to the input images in our dataset\n",
    "train_image_paths = []\n",
    "for root, dirs, files in os.walk(data_dir + \"MIT-CBCL-facerec-database/training-originals/\"):\n",
    "    for file in files:\n",
    "        if file.endswith(\".jpg\"):\n",
    "             train_image_paths.append(os.path.join(root, file))"
   ]
  },
  {
   "cell_type": "markdown",
   "metadata": {},
   "source": [
    "Encode the training images."
   ]
  },
  {
   "cell_type": "code",
   "execution_count": 4,
   "metadata": {},
   "outputs": [],
   "source": [
    "result_names = []\n",
    "for image_path in train_image_paths:\n",
    "    # extract the subject's  name from the image path\n",
    "    name = image_path.split(os.path.sep)[-2]\n",
    "    result_names.append(name)\n",
    "    del name"
   ]
  },
  {
   "cell_type": "code",
   "execution_count": 5,
   "metadata": {},
   "outputs": [],
   "source": [
    "def loop_over_images(image_paths):\n",
    "    # initialize the list of encodings and names\n",
    "    result_encodings = []\n",
    "    \n",
    "    for image_path in image_paths:\n",
    "        # extract the subject's  name from the image path\n",
    "        # name = imagePath.split(os.path.sep)[-2]\n",
    "\n",
    "        # Load the jpg files into numpy arrays\n",
    "        image = face_recognition.load_image_file(image_path)\n",
    "\n",
    "        # compute the facial embedding for the face\n",
    "        encodings = face_recognition.face_encodings(image)\n",
    "        # note every \"encodings\" is an one-element list, this element is a (1, 128) array\n",
    "        # if no face is found in the image, \"encodings\" is an empty list. \n",
    "\n",
    "            # loop over the encodings\n",
    "        \n",
    "            # add each encoding + name to our set of known names and encodings\n",
    "        result_encodings.append(encodings)\n",
    "        \n",
    "        del encodings\n",
    "            # result_names.append(name)\n",
    "        \n",
    "    return result_encodings"
   ]
  },
  {
   "cell_type": "code",
   "execution_count": 6,
   "metadata": {},
   "outputs": [
    {
     "name": "stderr",
     "output_type": "stream",
     "text": [
      "/usr/lib/python3/dist-packages/PIL/TiffImagePlugin.py:739: UserWarning: Possibly corrupt EXIF data.  Expecting to read 12 bytes but only got 0. Skipping tag 270\n",
      "  \" Skipping tag %s\" % (size, len(data), tag))\n",
      "/usr/lib/python3/dist-packages/PIL/TiffImagePlugin.py:739: UserWarning: Possibly corrupt EXIF data.  Expecting to read 6 bytes but only got 0. Skipping tag 271\n",
      "  \" Skipping tag %s\" % (size, len(data), tag))\n",
      "/usr/lib/python3/dist-packages/PIL/TiffImagePlugin.py:739: UserWarning: Possibly corrupt EXIF data.  Expecting to read 8 bytes but only got 0. Skipping tag 272\n",
      "  \" Skipping tag %s\" % (size, len(data), tag))\n",
      "/usr/lib/python3/dist-packages/PIL/TiffImagePlugin.py:739: UserWarning: Possibly corrupt EXIF data.  Expecting to read 64 bytes but only got 0. Skipping tag 282\n",
      "  \" Skipping tag %s\" % (size, len(data), tag))\n",
      "/usr/lib/python3/dist-packages/PIL/TiffImagePlugin.py:739: UserWarning: Possibly corrupt EXIF data.  Expecting to read 64 bytes but only got 0. Skipping tag 283\n",
      "  \" Skipping tag %s\" % (size, len(data), tag))\n",
      "/usr/lib/python3/dist-packages/PIL/TiffImagePlugin.py:739: UserWarning: Possibly corrupt EXIF data.  Expecting to read 20 bytes but only got 0. Skipping tag 306\n",
      "  \" Skipping tag %s\" % (size, len(data), tag))\n",
      "/usr/lib/python3/dist-packages/PIL/TiffImagePlugin.py:739: UserWarning: Possibly corrupt EXIF data.  Expecting to read 24 bytes but only got 0. Skipping tag 529\n",
      "  \" Skipping tag %s\" % (size, len(data), tag))\n",
      "/usr/lib/python3/dist-packages/PIL/TiffImagePlugin.py:739: UserWarning: Possibly corrupt EXIF data.  Expecting to read 24 bytes but only got 0. Skipping tag 532\n",
      "  \" Skipping tag %s\" % (size, len(data), tag))\n",
      "/usr/lib/python3/dist-packages/PIL/TiffImagePlugin.py:739: UserWarning: Possibly corrupt EXIF data.  Expecting to read 40 bytes but only got 0. Skipping tag 33432\n",
      "  \" Skipping tag %s\" % (size, len(data), tag))\n",
      "/usr/lib/python3/dist-packages/PIL/TiffImagePlugin.py:756: UserWarning: Corrupt EXIF data.  Expecting to read 2 bytes but only got 0. \n",
      "  warnings.warn(str(msg))\n"
     ]
    }
   ],
   "source": [
    "known_names = result_names\n",
    "del result_names\n",
    "\n",
    "known_encodings = loop_over_images(train_image_paths)\n",
    "\n",
    "# dump the facial encodings + names to disk\n",
    "data = {\"encodings\": known_encodings, \"names\": known_names}\n",
    "pickle.dump(data, open(data_dir + \"known_faces_encoded.pkl\", \"wb\"))"
   ]
  },
  {
   "cell_type": "code",
   "execution_count": 5,
   "metadata": {},
   "outputs": [],
   "source": [
    "del train_image_paths, known_encodings, known_names, data"
   ]
  },
  {
   "cell_type": "markdown",
   "metadata": {},
   "source": [
    "## Start Testing ##"
   ]
  },
  {
   "cell_type": "markdown",
   "metadata": {},
   "source": [
    "The test set consists of 200 images per subject. The data provider varied the illumination, pose (up to about 30 degrees of rotation in depth) and the background. Quality of the test photos are a realistic simulation to the working environment of a real-world face-recognition-based user identification system."
   ]
  },
  {
   "cell_type": "code",
   "execution_count": 6,
   "metadata": {},
   "outputs": [],
   "source": [
    "# load the known faces and embeddings\n",
    "data = pickle.loads(open(data_dir + \"known_faces_encoded.pkl\", \"rb\").read())"
   ]
  },
  {
   "cell_type": "code",
   "execution_count": 7,
   "metadata": {},
   "outputs": [],
   "source": [
    "# load all test photos\n",
    "test_image_paths = []\n",
    "for root, dirs, files in os.walk(data_dir + \"MIT-CBCL-facerec-database/test/\"):\n",
    "    for file in files:\n",
    "        if file.endswith(\".pgm\"):\n",
    "            test_image_paths.append(os.path.join(root, file))\n",
    "\n",
    "test_truth_names = []\n",
    "for image_path in test_image_paths:\n",
    "    # extract the person name from the image path\n",
    "    name = image_path.split(os.path.sep)[-1]\n",
    "    test_truth_names.append(name[:4])\n",
    "    del name\n",
    "\n",
    "test_encodings = loop_over_images(test_image_paths)"
   ]
  },
  {
   "cell_type": "markdown",
   "metadata": {},
   "source": [
    "### Individual Identification ###"
   ]
  },
  {
   "cell_type": "markdown",
   "metadata": {},
   "source": [
    "Pick a random test photo. "
   ]
  },
  {
   "cell_type": "code",
   "execution_count": 16,
   "metadata": {},
   "outputs": [],
   "source": [
    "unknown_image = test_image_paths[np.random.randint(0, len(test_image_paths))]\n",
    "unknown_image_truth = unknown_image.split(os.path.sep)[-1][:4]"
   ]
  },
  {
   "cell_type": "markdown",
   "metadata": {},
   "source": [
    "Output the name of the subject in the test photo. "
   ]
  },
  {
   "cell_type": "code",
   "execution_count": 17,
   "metadata": {},
   "outputs": [
    {
     "name": "stdout",
     "output_type": "stream",
     "text": [
      "True name of the test subject: 0008\n",
      "Test subject identified as: 0008\n"
     ]
    },
    {
     "name": "stderr",
     "output_type": "stream",
     "text": [
      "/home/lee/.local/lib/python3.6/site-packages/ipykernel_launcher.py:11: DeprecationWarning: The truth value of an empty array is ambiguous. Returning False, but in future this will result in an error. Use `array.size > 0` to check that an array is not empty.\n",
      "  # This is added back by InteractiveShellApp.init_path()\n"
     ]
    }
   ],
   "source": [
    "unknown_image_array = face_recognition.load_image_file(unknown_image)\n",
    "unknown_encoding = face_recognition.face_encodings(unknown_image_array)[0]\n",
    "\n",
    "# results is an array of True/False telling if the unknown face matched anyone in the known_faces array\n",
    "results_indv = np.array([face_recognition.face_distance(encoding, unknown_encoding) for \\\n",
    "                       encoding in data['encodings']]).argmin()\n",
    "\n",
    "test_names_indv = data['names'][results_indv]\n",
    "\n",
    "print('True name of the test subject: {}'.format(unknown_image_truth))\n",
    "print('Test subject identified as: {}'.format(test_names_indv))"
   ]
  },
  {
   "cell_type": "markdown",
   "metadata": {},
   "source": [
    "### Overall Accuracy ###"
   ]
  },
  {
   "cell_type": "markdown",
   "metadata": {},
   "source": [
    "Now we run the testing on all test photos to obtain an overall accuracy. "
   ]
  },
  {
   "cell_type": "code",
   "execution_count": 59,
   "metadata": {},
   "outputs": [
    {
     "name": "stderr",
     "output_type": "stream",
     "text": [
      "/home/lee/.local/lib/python3.6/site-packages/ipykernel_launcher.py:9: DeprecationWarning: The truth value of an empty array is ambiguous. Returning False, but in future this will result in an error. Use `array.size > 0` to check that an array is not empty.\n",
      "  if __name__ == '__main__':\n"
     ]
    }
   ],
   "source": [
    "tolerance = 0.6 # This parameter is subject to tuning in each application. \n",
    "\n",
    "test_predicted_names = []\n",
    "for test_encoding in test_encodings:\n",
    "    if len(test_encoding) == 1:\n",
    "    # verification and identification\n",
    "        distances = np.array([face_recognition.face_distance(encoding, test_encoding[0]) for \\\n",
    "                           encoding in data['encodings']])\n",
    "\n",
    "        results_indv = distances.argmin()\n",
    "        # np.array(face_recognition.compare_faces(knownEncodings, test_encoding, tolerance=0.5))\n",
    "\n",
    "        if distances[results_indv] <= tolerance:\n",
    "            test_names_indv = data['names'][results_indv]\n",
    "        else:\n",
    "            test_names_indv = ' '\n",
    "    \n",
    "    else:\n",
    "        test_names_indv = ' '\n",
    "    test_predicted_names.append(test_names_indv)"
   ]
  },
  {
   "cell_type": "code",
   "execution_count": 60,
   "metadata": {},
   "outputs": [
    {
     "name": "stdout",
     "output_type": "stream",
     "text": [
      "Overall accuracy: 0.9970\n"
     ]
    }
   ],
   "source": [
    "# show accuracy\n",
    "test_truth_names = np.array(test_truth_names)\n",
    "test_predicted_names = np.array(test_predicted_names)\n",
    "\n",
    "if test_truth_names.shape == test_predicted_names.shape:\n",
    "    if np.array_equal(test_truth_names, test_predicted_names):\n",
    "        accuracy = 1.0\n",
    "    else: \n",
    "        accuracy = np.count_nonzero(test_truth_names == test_predicted_names)/len(test_truth_names)\n",
    "print('Overall accuracy: {0:0.4f}'.format(accuracy))"
   ]
  }
 ],
 "metadata": {
  "kernelspec": {
   "display_name": "Python 3",
   "language": "python",
   "name": "python3"
  },
  "language_info": {
   "codemirror_mode": {
    "name": "ipython",
    "version": 3
   },
   "file_extension": ".py",
   "mimetype": "text/x-python",
   "name": "python",
   "nbconvert_exporter": "python",
   "pygments_lexer": "ipython3",
   "version": "3.6.5"
  }
 },
 "nbformat": 4,
 "nbformat_minor": 2
}
